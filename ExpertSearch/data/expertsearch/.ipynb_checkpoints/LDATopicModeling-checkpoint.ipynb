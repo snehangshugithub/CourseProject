{
 "cells": [
  {
   "cell_type": "markdown",
   "metadata": {},
   "source": [
    "# Creating a Topic Model Using Gensim \n",
    "\n",
    "Model selection is based on coherence score. \n",
    "\n",
    "Reference [gensim topic mining tutorial](https://www.machinelearningplus.com/nlp/topic-modeling-gensim-python/) by [Selva Prabhakaran](https://www.machinelearningplus.com/author/selva86/)."
   ]
  },
  {
   "cell_type": "code",
   "execution_count": 1,
   "metadata": {},
   "outputs": [],
   "source": [
    "import os\n",
    "import re\n",
    "import lxml # added to speed up processing\n",
    "import numpy as np\n",
    "import pandas as pd\n",
    "import metapy\n",
    "from pprint import pprint\n",
    "from collections import OrderedDict\n",
    "import gensim\n",
    "import gensim.corpora as corpora\n",
    "from gensim.parsing.preprocessing import preprocess_string, strip_punctuation, remove_stopwords, strip_tags, strip_numeric, strip_non_alphanum\n",
    "from gensim.models import CoherenceModel, Phrases\n",
    "from bs4 import BeautifulSoup\n",
    "import pyLDAvis\n",
    "import pyLDAvis.gensim\n",
    "import matplotlib.pyplot as plt\n",
    "%matplotlib inline\n",
    "import logging\n",
    "logging.basicConfig(format='%(asctime)s : %(levelname)s : %(message)s')\n",
    "\n",
    "import warnings\n",
    "warnings.filterwarnings(\"ignore\", category=DeprecationWarning)\n",
    "\n",
    "from ranker import load_ranker"
   ]
  },
  {
   "cell_type": "markdown",
   "metadata": {},
   "source": [
    "# Creating a Corpus\n",
    "\n",
    "The first step is to create a corpus to use for modeling."
   ]
  },
  {
   "cell_type": "code",
   "execution_count": 2,
   "metadata": {},
   "outputs": [],
   "source": [
    "top_directory = \"../compiled_bios\"\n",
    "filters_path = \"../\"\n",
    "def get_array_from_file(filters_path):\n",
    "    array_file = open(filters_path, 'r')\n",
    "    array = re.split(' |\\n|\\t', array_file.read().lower())\n",
    "    array_file.close()\n",
    "    array = [arr.replace('\\r', '') for arr in array if len(arr.replace('\\r', '')) > 0]\n",
    "    return set(array)\n",
    "\n",
    "def iter_documents(top_directory, filters):\n",
    "    custom_filter = [lambda x: x.lower(), strip_punctuation, remove_stopwords, strip_tags, strip_non_alphanum, strip_numeric]\n",
    "    \"\"\"Iterate over all documents, yielding a document (=list of utf8 tokens) at a time.\"\"\"\n",
    "    for root, dirs, files in os.walk(top_directory):\n",
    "        for file in filter(lambda file: file.endswith('.txt'), files):\n",
    "            document = open(os.path.join(root, file)).read().lower() # read the entire document, as one big string\n",
    "            soup = BeautifulSoup(document, \"lxml\")\n",
    "            document = soup.get_text(separator='\\n').split(' ')\n",
    "            document = preprocess_string(' '.join(document), custom_filter)\n",
    "            document = [word for word in document if word not in filters]\n",
    "            document = [word for word in document if len(word) > 4]\n",
    "            \n",
    "            yield document \n",
    "\n",
    "class CorpusContainer(object):\n",
    "    def __init__(self, top_dir, filters_path):\n",
    "        self.top_dir = top_dir\n",
    "        filter_set = self.__construct_filter_set(filters_path) \n",
    "        self.docs = list(iter_documents(top_dir, filter_set))\n",
    "        self.bigram = Phrases(self.docs, min_count=2)\n",
    "        self.trigram = Phrases(self.bigram[self.docs], min_count=2)\n",
    "        self.__append_bigrams_and_trigrams()\n",
    "        self.dictionary = gensim.corpora.Dictionary(self.docs)\n",
    "        self.dictionary.filter_extremes(no_below=10, no_above=.5, keep_n=30000) # check API docs for pruning params\n",
    "        self.corpus = [self.dictionary.doc2bow(doc) for doc in self.docs]\n",
    "        \n",
    "    def __iter__(self):\n",
    "        for tokens in iter_documents(self.top_dir, self.filters):\n",
    "            yield self.dictionary.doc2bow(tokens)\n",
    "            \n",
    "    def __len__(self):\n",
    "        return len(self.docs)\n",
    "    \n",
    "    def __construct_filter_set(self, filters_path):\n",
    "        filters = get_array_from_file(filters_path + 'names.txt')\n",
    "        filters.update(get_array_from_file(filters_path + 'unis'))\n",
    "        filters.update(get_array_from_file(filters_path + 'urls'))\n",
    "        filters.update(get_array_from_file(filters_path + 'emails'))\n",
    "        #filters.update(get_array_from_file(filters_path + 'depts'))\n",
    "        filters.update(get_array_from_file(filters_path + 'location'))\n",
    "        #filters.update(get_array_from_file(filters_path + 'unwanted_words.txt'))\n",
    "        return filters\n",
    "    \n",
    "    \n",
    "    def __append_bigrams_and_trigrams(self):\n",
    "        for idx in range(len(self.docs)):\n",
    "            bigrams = [bigram for bigram in self.bigram[self.docs[idx]] if bigram.count('_') == 1]\n",
    "            trigrams = [trigram for trigram in self.trigram[self.bigram[self.docs[idx]]] if trigram.count('_') == 2]\n",
    "        \n",
    "            for token in bigrams:\n",
    "                split_tokens = list(OrderedDict.fromkeys(token.split('_')))\n",
    "                for tok in split_tokens:\n",
    "                    self.docs[idx] = list(filter(lambda word: word != tok, self.docs[idx]))\n",
    "                self.docs[idx].append('_'.join(split_tokens))\n",
    "                \n",
    "            for token in trigrams:\n",
    "                split_tokens = list(OrderedDict.fromkeys(token.split('_')))\n",
    "                for tok in split_tokens:\n",
    "                    self.docs[idx] = list(filter(lambda word: word != tok, self.docs[idx]))\n",
    "                self.docs[idx].append('_'.join(split_tokens))\n",
    "   \n",
    "\n",
    "corpus_container = CorpusContainer(top_directory, filters_path) # create a dictionary"
   ]
  },
  {
   "cell_type": "markdown",
   "metadata": {},
   "source": [
    "# Creating Topic Model\n",
    "\n",
    "gensim LDA algorithm is used."
   ]
  },
  {
   "cell_type": "code",
   "execution_count": 3,
   "metadata": {},
   "outputs": [
    {
     "name": "stdout",
     "output_type": "stream",
     "text": [
      "[(0,\n",
      "  '0.019*\"physical_review\" + 0.006*\"applied_physics\" + 0.005*\"program\" + '\n",
      "  '0.005*\"details_pubmedid\" + 0.004*\"students\" + '\n",
      "  '0.004*\"physical_review_letters\" + 0.004*\"certificate\" + 0.004*\"interests\" + '\n",
      "  '0.004*\"physics_astronomy\" + 0.004*\"honors_awards\"'),\n",
      " (1,\n",
      "  '0.014*\"physics_astronomy\" + 0.010*\"mckelvey_school\" + 0.007*\"systems\" + '\n",
      "  '0.007*\"connect_close\" + 0.006*\"diversity_equity\" + 0.006*\"mechanical\" + '\n",
      "  '0.006*\"current_students\" + 0.006*\"offices_services\" + 0.005*\"environmental\" '\n",
      "  '+ 0.005*\"copyright_regents\"'),\n",
      " (2,\n",
      "  '0.017*\"medical_education\" + 0.015*\"biomedical_informatics\" + '\n",
      "  '0.012*\"programs_educational\" + 0.011*\"health_informatics\" + '\n",
      "  '0.008*\"admission_requirements\" + 0.008*\"innovation_medical\" + '\n",
      "  '0.008*\"informatics_fellowship\" + 0.008*\"leadership_innovation_medical\" + '\n",
      "  '0.008*\"centered_technologies\" + 0.008*\"informatics_patient\"'),\n",
      " (3,\n",
      "  '0.008*\"information\" + 0.008*\"systems\" + 0.007*\"group\" + 0.006*\"students\" + '\n",
      "  '0.006*\"software\" + 0.005*\"program\" + 0.005*\"student\" + 0.005*\"design\" + '\n",
      "  '0.005*\"school\" + 0.005*\"applications\"'),\n",
      " (4,\n",
      "  '0.011*\"student_organizations\" + 0.008*\"schools_colleges\" + '\n",
      "  '0.005*\"resources\" + 0.005*\"program\" + 0.005*\"opportunities\" + '\n",
      "  '0.005*\"policies_procedures\" + 0.005*\"interdisciplinary_professional\" + '\n",
      "  '0.005*\"accessibility_issues\" + 0.005*\"chemical_biological\" + '\n",
      "  '0.004*\"facebook_twitter\"'),\n",
      " (5,\n",
      "  '0.013*\"courses_seminars\" + 0.010*\"students_courses_seminars\" + '\n",
      "  '0.009*\"business_association\" + 0.008*\"career_impact\" + '\n",
      "  '0.006*\"management_organizations\" + 0.006*\"global_economics\" + '\n",
      "  '0.005*\"global_management\" + 0.005*\"operations_management\" + '\n",
      "  '0.004*\"media_entertainment\" + 0.003*\"accounting_minor\"'),\n",
      " (6,\n",
      "  '0.048*\"course_schedule\" + 0.023*\"graduate_studies\" + 0.021*\"advisory_board\" '\n",
      "  '+ 0.019*\"student_advisory_board\" + 0.015*\"websites_physics\" + '\n",
      "  '0.014*\"physics_astronomy\" + 0.014*\"scholars_graduate\" + '\n",
      "  '0.013*\"visiting_associates\" + 0.012*\"calendar_event\" + '\n",
      "  '0.010*\"mathematics_astronomy\"'),\n",
      " (7,\n",
      "  '0.026*\"conference_paper\" + 0.014*\"article_academic\" + '\n",
      "  '0.008*\"suggestions_query\" + 0.008*\"annual_meeting\" + '\n",
      "  '0.005*\"postgraduate_opportunities\" + 0.005*\"future\" + '\n",
      "  '0.005*\"statistical_machine\" + 0.005*\"annual_conference\" + '\n",
      "  '0.005*\"guest_member\" + 0.005*\"grants_awards\"'),\n",
      " (8,\n",
      "  '0.010*\"cellular_biology\" + 0.008*\"school_molecular\" + '\n",
      "  '0.006*\"corporate_governance\" + 0.006*\"academic_experience\" + '\n",
      "  '0.004*\"operations_information\" + 0.004*\"social_innovation\" + '\n",
      "  '0.004*\"organizational_behavior\" + 0.004*\"initiative_overview\" + '\n",
      "  '0.003*\"social_impact\" + 0.003*\"innovation_initiative\"'),\n",
      " (9,\n",
      "  '0.017*\"resources\" + 0.012*\"people\" + 0.011*\"seminar_participating\" + '\n",
      "  '0.009*\"industrial_manufacturing\" + 0.008*\"volume_issue\" + '\n",
      "  '0.007*\"admissions\" + 0.006*\"number_theory\" + 0.006*\"events\" + '\n",
      "  '0.006*\"student\" + 0.006*\"current_students\"'),\n",
      " (10,\n",
      "  '0.011*\"academicsour_peopleour\" + 0.009*\"fluid_mechanics\" + '\n",
      "  '0.007*\"theoretical_applied\" + 0.006*\"urbana_champaign\" + '\n",
      "  '0.005*\"applied_physics\" + 0.005*\"engineeringcivil_engineeringcomputer\" + '\n",
      "  '0.005*\"solid_mechanics\" + 0.005*\"capstone_design\" + 0.005*\"covid_response\" '\n",
      "  '+ 0.005*\"mechanics_materials\"'),\n",
      " (11,\n",
      "  '0.018*\"graduate\" + 0.017*\"diversity_equity\" + 0.015*\"seminars\" + '\n",
      "  '0.014*\"seminar_series\" + 0.014*\"events\" + 0.011*\"academic\" + '\n",
      "  '0.010*\"directory\" + 0.009*\"resources\" + 0.008*\"mechanical_industrial\" + '\n",
      "  '0.007*\"calendar\"'),\n",
      " (12,\n",
      "  '0.008*\"systems\" + 0.007*\"design_automation\" + 0.006*\"applied_physics\" + '\n",
      "  '0.006*\"education\" + 0.006*\"graduate\" + 0.006*\"information\" + '\n",
      "  '0.006*\"undergraduates_searn\" + 0.006*\"inclusive_environmentmeet\" + '\n",
      "  '0.005*\"quick_links\" + 0.005*\"applications\"'),\n",
      " (13,\n",
      "  '0.018*\"mathematical_sciences\" + 0.009*\"arrow_right\" + '\n",
      "  '0.007*\"utbildning_forskning\" + 0.007*\"notice_accessibility\" + '\n",
      "  '0.007*\"cookies\" + 0.007*\"copyright_privacy\" + 0.007*\"content_urbana\" + '\n",
      "  '0.007*\"champaign_liberal\" + 0.007*\"champaign_liberal_sciences\" + '\n",
      "  '0.006*\"links_important\"'),\n",
      " (14,\n",
      "  '0.004*\"based\" + 0.004*\"study\" + 0.004*\"systems\" + 0.003*\"development\" + '\n",
      "  '0.003*\"model\" + 0.003*\"control\" + 0.003*\"methods\" + 0.003*\"analysis\" + '\n",
      "  '0.003*\"complex\" + 0.003*\"effects\"'),\n",
      " (15,\n",
      "  '0.010*\"machine_learning\" + 0.006*\"based\" + 0.005*\"applications\" + '\n",
      "  '0.005*\"modeling\" + 0.004*\"theory\" + 0.004*\"artificial_intelligence\" + '\n",
      "  '0.004*\"paper_award\" + 0.004*\"analysis\" + 0.004*\"optimization\" + '\n",
      "  '0.003*\"neural_networks\"'),\n",
      " (16,\n",
      "  '0.008*\"graduate\" + 0.008*\"program\" + 0.007*\"programs\" + 0.006*\"resources\" + '\n",
      "  '0.006*\"management\" + 0.005*\"development\" + 0.005*\"information\" + '\n",
      "  '0.005*\"courses\" + 0.005*\"support\" + 0.005*\"learning\"'),\n",
      " (17,\n",
      "  '0.016*\"proceedings_conference\" + 0.010*\"network\" + 0.009*\"wireless_sensor\" '\n",
      "  '+ 0.008*\"management\" + 0.008*\"sensor_networks\" + 0.007*\"paper_award\" + '\n",
      "  '0.007*\"distributed_computing\" + 0.006*\"wireless_networks\" + '\n",
      "  '0.006*\"distributed_systems\" + 0.006*\"security_privacy\"'),\n",
      " (18,\n",
      "  '0.017*\"career_development\" + 0.016*\"biology_diversity\" + '\n",
      "  '0.011*\"resources_postdoc\" + 0.011*\"graduate_manual\" + '\n",
      "  '0.010*\"current_students\" + 0.007*\"computational_biology\" + '\n",
      "  '0.007*\"developmental_biology\" + 0.006*\"biology_computational\" + '\n",
      "  '0.006*\"microbiology_neurobiology\" + 0.006*\"prospective_students\"'),\n",
      " (19,\n",
      "  '0.010*\"visit_ottawa\" + 0.009*\"campus_tours\" + 0.009*\"upcoming_seminars\" + '\n",
      "  '0.007*\"graduate_studies\" + 0.007*\"profile_visit\" + 0.007*\"campus_emergency\" '\n",
      "  '+ 0.006*\"awards\" + 0.006*\"academic_calendar\" + '\n",
      "  '0.005*\"departmental_leadership\" + 0.005*\"people_visitors\"')]\n"
     ]
    }
   ],
   "source": [
    "id2word=corpus_container.dictionary\n",
    "corpus=corpus_container.corpus\n",
    "lda_model = gensim.models.ldamodel.LdaModel(\n",
    "corpus=corpus,\n",
    "id2word=id2word,\n",
    "num_topics=20,\n",
    "passes=10,\n",
    "per_word_topics=True) \n",
    "pprint(lda_model.print_topics())"
   ]
  },
  {
   "cell_type": "code",
   "execution_count": 4,
   "metadata": {},
   "outputs": [
    {
     "data": {
      "text/plain": [
       "0.5156407010524813"
      ]
     },
     "execution_count": 4,
     "metadata": {},
     "output_type": "execute_result"
    }
   ],
   "source": [
    "coherence_model_lda = CoherenceModel(model=lda_model, texts=corpus_container.docs, dictionary=corpus_container.dictionary, coherence='c_v')\n",
    "coherence_model_lda.get_coherence()"
   ]
  },
  {
   "cell_type": "code",
   "execution_count": 5,
   "metadata": {},
   "outputs": [],
   "source": [
    "def topic_number_evaluator(dictionary, corpus, texts, limit, start=2, step=3):\n",
    "    coherence_vals = []\n",
    "    models = []\n",
    "    for num_topics in range(start, limit, step):\n",
    "        model = gensim.models.ldamodel.LdaModel(corpus=corpus,\n",
    "                                           id2word=id2word,\n",
    "                                           num_topics=num_topics,\n",
    "                                           passes=10,\n",
    "                                           per_word_topics=True) \n",
    "                                         \n",
    "        models.append(model)\n",
    "        coherence_model = CoherenceModel(model=model, texts=texts, dictionary=dictionary, coherence='c_v')\n",
    "        coherence_vals.append(coherence_model.get_coherence())\n",
    "        \n",
    "    return models, coherence_vals"
   ]
  },
  {
   "cell_type": "code",
   "execution_count": 6,
   "metadata": {
    "scrolled": true
   },
   "outputs": [],
   "source": [
    "models, coherence_vals= topic_number_evaluator(corpus_container.dictionary, corpus_container.corpus, corpus_container.docs, start=10, limit=100, step=5)"
   ]
  },
  {
   "cell_type": "code",
   "execution_count": 7,
   "metadata": {},
   "outputs": [
    {
     "data": {
      "image/png": "[encoded data removed]",
      "text/plain": [
       "<Figure size 432x288 with 1 Axes>"
      ]
     },
     "metadata": {
      "needs_background": "light"
     },
     "output_type": "display_data"
    }
   ],
   "source": [
    "limit = 100\n",
    "start = 10\n",
    "step = 5\n",
    "x = range(start, limit, step)\n",
    "plt.plot(x, coherence_vals)\n",
    "plt.xlabel(\"Number of Topics\")\n",
    "plt.ylabel(\"Coherence Score\")\n",
    "plt.legend((\"coherence_vals\"), loc='best')\n",
    "plt.show()"
   ]
  },
  {
   "cell_type": "code",
   "execution_count": 8,
   "metadata": {},
   "outputs": [
    {
     "name": "stdout",
     "output_type": "stream",
     "text": [
      "Num topics =  10  has coherence value of 0.5733\n",
      "Num topics =  15  has coherence value of 0.5483\n",
      "Num topics =  20  has coherence value of 0.5105\n",
      "Num topics =  25  has coherence value of 0.5514\n",
      "Num topics =  30  has coherence value of 0.575\n",
      "Num topics =  35  has coherence value of 0.5438\n",
      "Num topics =  40  has coherence value of 0.5906\n",
      "Num topics =  45  has coherence value of 0.6124\n",
      "Num topics =  50  has coherence value of 0.5944\n",
      "Num topics =  55  has coherence value of 0.6136\n",
      "Num topics =  60  has coherence value of 0.5896\n",
      "Num topics =  65  has coherence value of 0.5697\n",
      "Num topics =  70  has coherence value of 0.6102\n",
      "Num topics =  75  has coherence value of 0.591\n",
      "Num topics =  80  has coherence value of 0.5495\n",
      "Num topics =  85  has coherence value of 0.5987\n",
      "Num topics =  90  has coherence value of 0.5917\n",
      "Num topics =  95  has coherence value of 0.5536\n"
     ]
    }
   ],
   "source": [
    "for m, cv in zip(x, coherence_vals):\n",
    "    print(\"Num topics = \", m, \" has coherence value of\", round(cv, 4))"
   ]
  },
  {
   "cell_type": "code",
   "execution_count": 9,
   "metadata": {
    "scrolled": true
   },
   "outputs": [
    {
     "name": "stdout",
     "output_type": "stream",
     "text": [
      "[(45,\n",
      "  '0.018*\"programs\" + 0.012*\"arrow_right\" + 0.009*\"distance_learning\" + '\n",
      "  '0.009*\"bachelor_computing\" + 0.009*\"ebrahim_bagheri\" + '\n",
      "  '0.009*\"systems_bachelor_computing\" + 0.009*\"earth_atmospheric\" + '\n",
      "  '0.008*\"program\" + 0.008*\"academic_experience\" + 0.008*\"graduate_studies\"'),\n",
      " (56,\n",
      "  '0.018*\"academic_advising\" + 0.012*\"network\" + '\n",
      "  '0.012*\"computing_informatics_decision\" + 0.012*\"informatics_decision\" + '\n",
      "  '0.012*\"information_assurance\" + 0.011*\"design\" + 0.011*\"education\" + '\n",
      "  '0.009*\"autonomous_systems\" + 0.009*\"copyright_trademark\" + 0.009*\"society\"'),\n",
      " (38,\n",
      "  '0.090*\"operations_management\" + 0.067*\"supply_chain\" + '\n",
      "  '0.057*\"decision_making\" + 0.051*\"service\" + 0.028*\"intellectual_property\" + '\n",
      "  '0.025*\"developing_countries\" + 0.023*\"business_analytics\" + '\n",
      "  '0.016*\"supply_chains\" + 0.015*\"production_operations_management\" + '\n",
      "  '0.014*\"ventures\"'),\n",
      " (36,\n",
      "  '0.021*\"schools_colleges\" + 0.015*\"urbana_champaign\" + 0.013*\"opportunities\" '\n",
      "  '+ 0.012*\"resources\" + 0.011*\"graduate_studies\" + '\n",
      "  '0.010*\"school_graduate_studies\" + 0.010*\"service_centre\" + '\n",
      "  '0.010*\"student_service_centre\" + 0.010*\"schedules_class\" + '\n",
      "  '0.010*\"registration_important\"'),\n",
      " (42,\n",
      "  '0.020*\"medical_education\" + 0.015*\"biomedical_informatics\" + '\n",
      "  '0.014*\"programs_educational\" + 0.013*\"current_students\" + '\n",
      "  '0.011*\"health_informatics\" + 0.010*\"mckelvey_school\" + '\n",
      "  '0.010*\"admission_requirements\" + 0.009*\"innovation_medical\" + '\n",
      "  '0.009*\"informatics_fellowship\" + 0.009*\"leadership_innovation_medical\"'),\n",
      " (4,\n",
      "  '0.042*\"cellular_biology\" + 0.037*\"school_molecular\" + '\n",
      "  '0.011*\"urbana_champaign\" + 0.008*\"developmental_biology\" + '\n",
      "  '0.007*\"current_students\" + 0.007*\"molecular_cellular\" + '\n",
      "  '0.007*\"graduate_studies\" + 0.007*\"visit_ottawa\" + '\n",
      "  '0.007*\"prospective_students\" + 0.006*\"integrative_physiology\"'),\n",
      " (24,\n",
      "  '0.025*\"volume_issue\" + 0.013*\"ucdavis_eduoffice\" + 0.008*\"ucdavis_content\" '\n",
      "  '+ 0.008*\"quick_links\" + 0.008*\"ucdavis_close\" + 0.008*\"roomtravel_forms\" + '\n",
      "  '0.008*\"recipientsgraduate_welcomeresources\" + '\n",
      "  '0.008*\"scheduleclass_accountspta\" + '\n",
      "  '0.008*\"profilespublicationsnews_newsletter\" + '\n",
      "  '0.008*\"positionskrener_positionslecturer\"'),\n",
      " (40,\n",
      "  '0.078*\"annual_conference\" + 0.062*\"invited_speaker\" + '\n",
      "  '0.030*\"vehicular_networks\" + 0.027*\"preliminary_version\" + '\n",
      "  '0.025*\"mobile_cloud\" + 0.020*\"saudi_arabia\" + 0.020*\"linguistics\" + '\n",
      "  '0.019*\"annual_conference_exposition\" + 0.019*\"centers\" + '\n",
      "  '0.017*\"networking_mobicom\"'),\n",
      " (44,\n",
      "  '0.062*\"programming_languages\" + 0.045*\"object_oriented\" + 0.029*\"programs\" '\n",
      "  '+ 0.028*\"programming_language\" + 0.025*\"program\" + 0.022*\"neural_networks\" '\n",
      "  '+ 0.022*\"object_oriented_programming\" + 0.015*\"design_implementation\" + '\n",
      "  '0.014*\"software_testing\" + 0.013*\"paper_award\"'),\n",
      " (22,\n",
      "  '0.009*\"proceedings_conference\" + 0.007*\"management\" + '\n",
      "  '0.007*\"wireless_sensor\" + 0.007*\"paper_award\" + 0.007*\"network\" + '\n",
      "  '0.007*\"sensor_networks\" + 0.006*\"based\" + 0.005*\"distributed_computing\" + '\n",
      "  '0.005*\"analysis\" + 0.005*\"wireless_networks\"'),\n",
      " (19,\n",
      "  '0.013*\"systems\" + 0.011*\"chemical_biomolecular\" + '\n",
      "  '0.011*\"advanced_materials\" + 0.011*\"centers_institutes\" + 0.007*\"design\" + '\n",
      "  '0.007*\"molecular_biology\" + 0.006*\"physics\" + 0.006*\"materials\" + '\n",
      "  '0.005*\"tenure_track\" + 0.005*\"chemistry_chemical\"'),\n",
      " (43,\n",
      "  '0.016*\"academicsour_peopleour\" + '\n",
      "  '0.008*\"engineeringcivil_engineeringcomputer\" + '\n",
      "  '0.008*\"engineeringchemical_engineeringcomputer\" + '\n",
      "  '0.008*\"charlottesville_phone\" + 0.006*\"student_consumer\" + '\n",
      "  '0.006*\"current_students\" + 0.006*\"phase_project\" + '\n",
      "  '0.005*\"interests_include\" + 0.004*\"apply_visit\" + 0.004*\"departments\"'),\n",
      " (48,\n",
      "  '0.026*\"program\" + 0.019*\"programs\" + 0.016*\"students\" + 0.015*\"support\" + '\n",
      "  '0.013*\"resources\" + 0.012*\"campus\" + 0.012*\"courses\" + 0.011*\"events\" + '\n",
      "  '0.010*\"study_abroad\" + 0.010*\"history\"'),\n",
      " (52,\n",
      "  '0.011*\"development\" + 0.008*\"studies\" + 0.007*\"management\" + '\n",
      "  '0.006*\"society\" + 0.006*\"global\" + 0.006*\"human\" + 0.005*\"impact\" + '\n",
      "  '0.005*\"association\" + 0.005*\"community\" + 0.005*\"leadership\"'),\n",
      " (0,\n",
      "  '0.058*\"seminar_participating\" + 0.034*\"number_theory\" + 0.032*\"people\" + '\n",
      "  '0.026*\"resources\" + 0.024*\"seminar_geometry\" + 0.023*\"topology_seminar\" + '\n",
      "  '0.018*\"phone\" + 0.017*\"regents\" + 0.017*\"lecture_series\" + '\n",
      "  '0.016*\"admissions\"'),\n",
      " (15,\n",
      "  '0.045*\"events\" + 0.032*\"accessibility\" + 0.022*\"academics\" + '\n",
      "  '0.020*\"education\" + 0.019*\"admissions\" + 0.017*\"apply\" + '\n",
      "  '0.017*\"quick_links\" + 0.016*\"online\" + 0.016*\"professional\" + '\n",
      "  '0.014*\"people\"'),\n",
      " (1,\n",
      "  '0.157*\"graduate\" + 0.092*\"information\" + 0.040*\"student\" + 0.033*\"overview\" '\n",
      "  '+ 0.027*\"programs\" + 0.022*\"students\" + 0.021*\"admissions\" + '\n",
      "  '0.017*\"prospective_students\" + 0.017*\"academics\" + 0.015*\"resources\"'),\n",
      " (53,\n",
      "  '0.008*\"based\" + 0.007*\"molecular\" + 0.006*\"novel\" + 0.006*\"control\" + '\n",
      "  '0.005*\"materials\" + 0.005*\"applications\" + 0.005*\"study\" + '\n",
      "  '0.004*\"development\" + 0.004*\"interests\" + 0.004*\"studies\"'),\n",
      " (47,\n",
      "  '0.107*\"logic\" + 0.074*\"theory_computation\" + 0.046*\"mechanisms\" + '\n",
      "  '0.045*\"mechanism_design\" + 0.033*\"digital_forensics\" + 0.031*\"focus\" + '\n",
      "  '0.028*\"economics_computation\" + 0.026*\"algorithmic_theory\" + '\n",
      "  '0.022*\"transcription_factors\" + 0.022*\"teixeira\"'),\n",
      " (25,\n",
      "  '0.039*\"conference_paper\" + 0.017*\"human_factors\" + 0.014*\"article_academic\" '\n",
      "  '+ 0.014*\"human_interaction\" + 0.011*\"proceedings_conference\" + '\n",
      "  '0.008*\"online\" + 0.008*\"annual_conference\" + 0.007*\"annual_meeting\" + '\n",
      "  '0.006*\"social_media\" + 0.006*\"workshop\"')]\n"
     ]
    }
   ],
   "source": [
    "optimal_model = models[10]\n",
    "model_topics = optimal_model.show_topics(formatted=False)\n",
    "pprint(optimal_model.print_topics(num_words=10))"
   ]
  },
  {
   "cell_type": "markdown",
   "metadata": {},
   "source": [
    "# Saving the Model\n",
    "\n",
    "Save the model so that I can load it for inference. Due to timcrunch, there are still scope for further tweaking of corpus to get a better topic model. "
   ]
  },
  {
   "cell_type": "code",
   "execution_count": 10,
   "metadata": {},
   "outputs": [],
   "source": [
    "optimal_model = gensim.models.ldamodel.LdaModel(corpus=corpus,\n",
    "                                           id2word=id2word,\n",
    "                                           num_topics=90,\n",
    "                                           passes=10,\n",
    "                                           per_word_topics=True\n",
    "                                        )"
   ]
  },
  {
   "cell_type": "code",
   "execution_count": 11,
   "metadata": {},
   "outputs": [],
   "source": [
    "optimal_model.save('lda_model')"
   ]
  },
  {
   "cell_type": "code",
   "execution_count": 12,
   "metadata": {},
   "outputs": [],
   "source": [
    "model = gensim.utils.SaveLoad.load('lda_model') # Make sure the model saved properly"
   ]
  },
  {
   "cell_type": "markdown",
   "metadata": {},
   "source": [
    "# Saving the Dictionary\n",
    "\n",
    "Because I need to dictionary for inference, I'll go ahead and save it too."
   ]
  },
  {
   "cell_type": "code",
   "execution_count": 13,
   "metadata": {},
   "outputs": [],
   "source": [
    "corpus_container.dictionary.save('corpus_dictionary')"
   ]
  },
  {
   "cell_type": "code",
   "execution_count": 14,
   "metadata": {},
   "outputs": [],
   "source": [
    "corpora.MmCorpus.serialize('lda_corpus', corpus_container.corpus)"
   ]
  },
  {
   "cell_type": "code",
   "execution_count": null,
   "metadata": {},
   "outputs": [],
   "source": []
  }
 ],
 "metadata": {
  "kernelspec": {
   "display_name": "Python 3",
   "language": "python",
   "name": "python3"
  },
  "language_info": {
   "codemirror_mode": {
    "name": "ipython",
    "version": 3
   },
   "file_extension": ".py",
   "mimetype": "text/x-python",
   "name": "python",
   "nbconvert_exporter": "python",
   "pygments_lexer": "ipython3",
   "version": "3.5.6"
  }
 },
 "nbformat": 4,
 "nbformat_minor": 2
}
